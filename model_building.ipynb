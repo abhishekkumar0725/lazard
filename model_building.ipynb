{
 "cells": [
  {
   "cell_type": "code",
   "execution_count": 152,
   "metadata": {},
   "outputs": [],
   "source": [
    "from sklearn.linear_model import LogisticRegression, LinearRegression, SGDRegressor\n",
    "from sklearn.tree import DecisionTreeRegressor\n",
    "from sklearn.svm import SVR\n",
    "from sklearn.preprocessing import PolynomialFeatures\n",
    "from sklearn.pipeline import make_pipeline\n",
    "from sklearn.model_selection import cross_val_score\n",
    "import matplotlib.pyplot as plt\n",
    "import pandas as pd\n",
    "import feature_engineering\n",
    "import numpy as np"
   ]
  },
  {
   "cell_type": "markdown",
   "metadata": {},
   "source": [
    "# Loading Up Data"
   ]
  },
  {
   "cell_type": "code",
   "execution_count": 71,
   "metadata": {},
   "outputs": [],
   "source": [
    "news_and_finance_data = pd.read_csv('data/news_and_finance_date.csv')\n",
    "news_and_finance_data = news_and_finance_data.fillna(0)\n",
    "y_data = news_and_finance_data['MONTHLY_RETURN']\n",
    "yf1_data = news_and_finance_data['MONTHLY_RETURN_F1']\n",
    "to_drop = ['security', 'date_x', 'date_y', 'month', 'MONTHLY_RETURN', 'MONTHLY_RETURN_F1', 'RP_ENTITY_ID', 'RP_STORY_EVENT_INDEX', ]\n",
    "x_data = news_and_finance_data.drop(to_drop, axis=1)\n",
    "for column in x_data.columns:\n",
    "    x_data[column] = feature_engineering.data_normalization(x_data, column)"
   ]
  },
  {
   "cell_type": "code",
   "execution_count": 72,
   "metadata": {},
   "outputs": [
    {
     "data": {
      "text/html": [
       "<div>\n",
       "<style scoped>\n",
       "    .dataframe tbody tr th:only-of-type {\n",
       "        vertical-align: middle;\n",
       "    }\n",
       "\n",
       "    .dataframe tbody tr th {\n",
       "        vertical-align: top;\n",
       "    }\n",
       "\n",
       "    .dataframe thead th {\n",
       "        text-align: right;\n",
       "    }\n",
       "</style>\n",
       "<table border=\"1\" class=\"dataframe\">\n",
       "  <thead>\n",
       "    <tr style=\"text-align: right;\">\n",
       "      <th></th>\n",
       "      <th>LTM_REVENUE</th>\n",
       "      <th>LTM_EPS</th>\n",
       "      <th>LTM_OPERATING_INCOME</th>\n",
       "      <th>LTM_OPERATING_MARGIN</th>\n",
       "      <th>EV</th>\n",
       "      <th>NTM_PE</th>\n",
       "      <th>NTM_REVENUE</th>\n",
       "      <th>NTM_EPS</th>\n",
       "      <th>NTM_OPERATING_MARGIN</th>\n",
       "      <th>NTM_EV_EBITDA</th>\n",
       "      <th>...</th>\n",
       "      <th>NORMAL_RELEVANCE</th>\n",
       "      <th>NORMAL_EVENT_SENTIMENT_SCORE</th>\n",
       "      <th>NORMAL_EVENT_RELEVANCE</th>\n",
       "      <th>NORMAL_EVENT_SIMILARITY_DAYS</th>\n",
       "      <th>ENCODED_TOPIC</th>\n",
       "      <th>ENCODED_GROUP</th>\n",
       "      <th>ENCODED_TYPE</th>\n",
       "      <th>ENCODED_FACT_LEVEL</th>\n",
       "      <th>ENCODED_NEWS_TYPE</th>\n",
       "      <th>ENCODED_CATEGORY</th>\n",
       "    </tr>\n",
       "  </thead>\n",
       "  <tbody>\n",
       "    <tr>\n",
       "      <th>0</th>\n",
       "      <td>-0.349826</td>\n",
       "      <td>-0.406300</td>\n",
       "      <td>-0.533473</td>\n",
       "      <td>-0.875438</td>\n",
       "      <td>-0.361772</td>\n",
       "      <td>0.198435</td>\n",
       "      <td>-0.296221</td>\n",
       "      <td>-0.386191</td>\n",
       "      <td>0.0</td>\n",
       "      <td>0.194241</td>\n",
       "      <td>...</td>\n",
       "      <td>-0.033981</td>\n",
       "      <td>-0.040016</td>\n",
       "      <td>-0.041283</td>\n",
       "      <td>-0.108656</td>\n",
       "      <td>0.135116</td>\n",
       "      <td>0.056121</td>\n",
       "      <td>-0.022631</td>\n",
       "      <td>-0.358892</td>\n",
       "      <td>0.294990</td>\n",
       "      <td>-0.116771</td>\n",
       "    </tr>\n",
       "    <tr>\n",
       "      <th>1</th>\n",
       "      <td>-0.349826</td>\n",
       "      <td>-0.406300</td>\n",
       "      <td>-0.533473</td>\n",
       "      <td>-0.875438</td>\n",
       "      <td>-0.361772</td>\n",
       "      <td>0.284612</td>\n",
       "      <td>-0.295957</td>\n",
       "      <td>-0.385559</td>\n",
       "      <td>0.0</td>\n",
       "      <td>0.296214</td>\n",
       "      <td>...</td>\n",
       "      <td>-0.033981</td>\n",
       "      <td>-0.040016</td>\n",
       "      <td>-0.041283</td>\n",
       "      <td>-0.108656</td>\n",
       "      <td>0.135116</td>\n",
       "      <td>0.056121</td>\n",
       "      <td>-0.022631</td>\n",
       "      <td>-0.358892</td>\n",
       "      <td>0.294990</td>\n",
       "      <td>-0.116771</td>\n",
       "    </tr>\n",
       "    <tr>\n",
       "      <th>2</th>\n",
       "      <td>-0.333511</td>\n",
       "      <td>-0.401046</td>\n",
       "      <td>-0.520964</td>\n",
       "      <td>-0.868992</td>\n",
       "      <td>-0.269748</td>\n",
       "      <td>0.418224</td>\n",
       "      <td>-0.294799</td>\n",
       "      <td>-0.385980</td>\n",
       "      <td>0.0</td>\n",
       "      <td>0.461465</td>\n",
       "      <td>...</td>\n",
       "      <td>-0.033981</td>\n",
       "      <td>-0.040016</td>\n",
       "      <td>-0.041283</td>\n",
       "      <td>-0.108656</td>\n",
       "      <td>0.135116</td>\n",
       "      <td>0.056121</td>\n",
       "      <td>-0.022631</td>\n",
       "      <td>-0.358892</td>\n",
       "      <td>0.294990</td>\n",
       "      <td>-0.116771</td>\n",
       "    </tr>\n",
       "    <tr>\n",
       "      <th>3</th>\n",
       "      <td>-0.333511</td>\n",
       "      <td>-0.401046</td>\n",
       "      <td>-0.520964</td>\n",
       "      <td>-0.868992</td>\n",
       "      <td>-0.269748</td>\n",
       "      <td>0.382380</td>\n",
       "      <td>-0.271021</td>\n",
       "      <td>-0.366532</td>\n",
       "      <td>0.0</td>\n",
       "      <td>0.403480</td>\n",
       "      <td>...</td>\n",
       "      <td>-0.033981</td>\n",
       "      <td>-0.040016</td>\n",
       "      <td>-0.041283</td>\n",
       "      <td>-0.108656</td>\n",
       "      <td>0.135116</td>\n",
       "      <td>0.056121</td>\n",
       "      <td>-0.022631</td>\n",
       "      <td>-0.358892</td>\n",
       "      <td>0.294990</td>\n",
       "      <td>-0.116771</td>\n",
       "    </tr>\n",
       "    <tr>\n",
       "      <th>4</th>\n",
       "      <td>-0.333511</td>\n",
       "      <td>-0.401046</td>\n",
       "      <td>-0.520964</td>\n",
       "      <td>-0.868992</td>\n",
       "      <td>-0.269748</td>\n",
       "      <td>0.346410</td>\n",
       "      <td>-0.270402</td>\n",
       "      <td>-0.366181</td>\n",
       "      <td>0.0</td>\n",
       "      <td>0.342496</td>\n",
       "      <td>...</td>\n",
       "      <td>-0.033981</td>\n",
       "      <td>-0.040016</td>\n",
       "      <td>-0.041283</td>\n",
       "      <td>-0.108656</td>\n",
       "      <td>0.135116</td>\n",
       "      <td>0.056121</td>\n",
       "      <td>-0.022631</td>\n",
       "      <td>-0.358892</td>\n",
       "      <td>0.294990</td>\n",
       "      <td>-0.116771</td>\n",
       "    </tr>\n",
       "    <tr>\n",
       "      <th>...</th>\n",
       "      <td>...</td>\n",
       "      <td>...</td>\n",
       "      <td>...</td>\n",
       "      <td>...</td>\n",
       "      <td>...</td>\n",
       "      <td>...</td>\n",
       "      <td>...</td>\n",
       "      <td>...</td>\n",
       "      <td>...</td>\n",
       "      <td>...</td>\n",
       "      <td>...</td>\n",
       "      <td>...</td>\n",
       "      <td>...</td>\n",
       "      <td>...</td>\n",
       "      <td>...</td>\n",
       "      <td>...</td>\n",
       "      <td>...</td>\n",
       "      <td>...</td>\n",
       "      <td>...</td>\n",
       "      <td>...</td>\n",
       "      <td>...</td>\n",
       "    </tr>\n",
       "    <tr>\n",
       "      <th>3535</th>\n",
       "      <td>-0.645667</td>\n",
       "      <td>-0.288345</td>\n",
       "      <td>-0.333594</td>\n",
       "      <td>1.541500</td>\n",
       "      <td>-0.199113</td>\n",
       "      <td>0.162245</td>\n",
       "      <td>-0.620119</td>\n",
       "      <td>-0.284174</td>\n",
       "      <td>0.0</td>\n",
       "      <td>0.449939</td>\n",
       "      <td>...</td>\n",
       "      <td>-0.033981</td>\n",
       "      <td>-0.040016</td>\n",
       "      <td>-0.041283</td>\n",
       "      <td>-0.108656</td>\n",
       "      <td>0.135116</td>\n",
       "      <td>0.056121</td>\n",
       "      <td>-0.022631</td>\n",
       "      <td>-0.358892</td>\n",
       "      <td>0.294990</td>\n",
       "      <td>-0.116771</td>\n",
       "    </tr>\n",
       "    <tr>\n",
       "      <th>3536</th>\n",
       "      <td>-0.643309</td>\n",
       "      <td>-0.279773</td>\n",
       "      <td>-0.336042</td>\n",
       "      <td>1.470019</td>\n",
       "      <td>-0.190385</td>\n",
       "      <td>0.119849</td>\n",
       "      <td>-0.620005</td>\n",
       "      <td>-0.283613</td>\n",
       "      <td>0.0</td>\n",
       "      <td>0.397541</td>\n",
       "      <td>...</td>\n",
       "      <td>-0.033981</td>\n",
       "      <td>-0.040016</td>\n",
       "      <td>-0.041283</td>\n",
       "      <td>-0.108656</td>\n",
       "      <td>0.135116</td>\n",
       "      <td>0.056121</td>\n",
       "      <td>-0.022631</td>\n",
       "      <td>-0.358892</td>\n",
       "      <td>0.294990</td>\n",
       "      <td>-0.116771</td>\n",
       "    </tr>\n",
       "    <tr>\n",
       "      <th>3537</th>\n",
       "      <td>-0.643309</td>\n",
       "      <td>-0.279773</td>\n",
       "      <td>-0.336042</td>\n",
       "      <td>1.470019</td>\n",
       "      <td>-0.190385</td>\n",
       "      <td>0.080919</td>\n",
       "      <td>-0.617242</td>\n",
       "      <td>-0.265288</td>\n",
       "      <td>0.0</td>\n",
       "      <td>0.375782</td>\n",
       "      <td>...</td>\n",
       "      <td>0.891183</td>\n",
       "      <td>4.237260</td>\n",
       "      <td>1.723057</td>\n",
       "      <td>0.246883</td>\n",
       "      <td>0.041571</td>\n",
       "      <td>-2.276877</td>\n",
       "      <td>1.024424</td>\n",
       "      <td>3.043979</td>\n",
       "      <td>-1.496509</td>\n",
       "      <td>-0.941538</td>\n",
       "    </tr>\n",
       "    <tr>\n",
       "      <th>3538</th>\n",
       "      <td>-0.643309</td>\n",
       "      <td>-0.280252</td>\n",
       "      <td>-0.336042</td>\n",
       "      <td>1.470019</td>\n",
       "      <td>-0.190385</td>\n",
       "      <td>0.183537</td>\n",
       "      <td>-0.617337</td>\n",
       "      <td>-0.265077</td>\n",
       "      <td>0.0</td>\n",
       "      <td>0.467875</td>\n",
       "      <td>...</td>\n",
       "      <td>0.891183</td>\n",
       "      <td>3.423046</td>\n",
       "      <td>-0.477970</td>\n",
       "      <td>-1.317770</td>\n",
       "      <td>-0.571958</td>\n",
       "      <td>7.285802</td>\n",
       "      <td>6.085864</td>\n",
       "      <td>2.880228</td>\n",
       "      <td>-3.979897</td>\n",
       "      <td>-0.489622</td>\n",
       "    </tr>\n",
       "    <tr>\n",
       "      <th>3539</th>\n",
       "      <td>-0.643309</td>\n",
       "      <td>-0.280252</td>\n",
       "      <td>-0.336042</td>\n",
       "      <td>1.470019</td>\n",
       "      <td>-0.190385</td>\n",
       "      <td>0.178151</td>\n",
       "      <td>-0.617337</td>\n",
       "      <td>-0.265077</td>\n",
       "      <td>0.0</td>\n",
       "      <td>0.462347</td>\n",
       "      <td>...</td>\n",
       "      <td>0.891183</td>\n",
       "      <td>-6.684639</td>\n",
       "      <td>0.911662</td>\n",
       "      <td>-3.484798</td>\n",
       "      <td>-0.473087</td>\n",
       "      <td>-5.086971</td>\n",
       "      <td>3.682328</td>\n",
       "      <td>3.049403</td>\n",
       "      <td>-4.405417</td>\n",
       "      <td>-6.387517</td>\n",
       "    </tr>\n",
       "  </tbody>\n",
       "</table>\n",
       "<p>3540 rows × 68 columns</p>\n",
       "</div>"
      ],
      "text/plain": [
       "      LTM_REVENUE   LTM_EPS  LTM_OPERATING_INCOME  LTM_OPERATING_MARGIN  \\\n",
       "0       -0.349826 -0.406300             -0.533473             -0.875438   \n",
       "1       -0.349826 -0.406300             -0.533473             -0.875438   \n",
       "2       -0.333511 -0.401046             -0.520964             -0.868992   \n",
       "3       -0.333511 -0.401046             -0.520964             -0.868992   \n",
       "4       -0.333511 -0.401046             -0.520964             -0.868992   \n",
       "...           ...       ...                   ...                   ...   \n",
       "3535    -0.645667 -0.288345             -0.333594              1.541500   \n",
       "3536    -0.643309 -0.279773             -0.336042              1.470019   \n",
       "3537    -0.643309 -0.279773             -0.336042              1.470019   \n",
       "3538    -0.643309 -0.280252             -0.336042              1.470019   \n",
       "3539    -0.643309 -0.280252             -0.336042              1.470019   \n",
       "\n",
       "            EV    NTM_PE  NTM_REVENUE   NTM_EPS  NTM_OPERATING_MARGIN  \\\n",
       "0    -0.361772  0.198435    -0.296221 -0.386191                   0.0   \n",
       "1    -0.361772  0.284612    -0.295957 -0.385559                   0.0   \n",
       "2    -0.269748  0.418224    -0.294799 -0.385980                   0.0   \n",
       "3    -0.269748  0.382380    -0.271021 -0.366532                   0.0   \n",
       "4    -0.269748  0.346410    -0.270402 -0.366181                   0.0   \n",
       "...        ...       ...          ...       ...                   ...   \n",
       "3535 -0.199113  0.162245    -0.620119 -0.284174                   0.0   \n",
       "3536 -0.190385  0.119849    -0.620005 -0.283613                   0.0   \n",
       "3537 -0.190385  0.080919    -0.617242 -0.265288                   0.0   \n",
       "3538 -0.190385  0.183537    -0.617337 -0.265077                   0.0   \n",
       "3539 -0.190385  0.178151    -0.617337 -0.265077                   0.0   \n",
       "\n",
       "      NTM_EV_EBITDA  ...  NORMAL_RELEVANCE  NORMAL_EVENT_SENTIMENT_SCORE  \\\n",
       "0          0.194241  ...         -0.033981                     -0.040016   \n",
       "1          0.296214  ...         -0.033981                     -0.040016   \n",
       "2          0.461465  ...         -0.033981                     -0.040016   \n",
       "3          0.403480  ...         -0.033981                     -0.040016   \n",
       "4          0.342496  ...         -0.033981                     -0.040016   \n",
       "...             ...  ...               ...                           ...   \n",
       "3535       0.449939  ...         -0.033981                     -0.040016   \n",
       "3536       0.397541  ...         -0.033981                     -0.040016   \n",
       "3537       0.375782  ...          0.891183                      4.237260   \n",
       "3538       0.467875  ...          0.891183                      3.423046   \n",
       "3539       0.462347  ...          0.891183                     -6.684639   \n",
       "\n",
       "      NORMAL_EVENT_RELEVANCE  NORMAL_EVENT_SIMILARITY_DAYS  ENCODED_TOPIC  \\\n",
       "0                  -0.041283                     -0.108656       0.135116   \n",
       "1                  -0.041283                     -0.108656       0.135116   \n",
       "2                  -0.041283                     -0.108656       0.135116   \n",
       "3                  -0.041283                     -0.108656       0.135116   \n",
       "4                  -0.041283                     -0.108656       0.135116   \n",
       "...                      ...                           ...            ...   \n",
       "3535               -0.041283                     -0.108656       0.135116   \n",
       "3536               -0.041283                     -0.108656       0.135116   \n",
       "3537                1.723057                      0.246883       0.041571   \n",
       "3538               -0.477970                     -1.317770      -0.571958   \n",
       "3539                0.911662                     -3.484798      -0.473087   \n",
       "\n",
       "      ENCODED_GROUP  ENCODED_TYPE  ENCODED_FACT_LEVEL  ENCODED_NEWS_TYPE  \\\n",
       "0          0.056121     -0.022631           -0.358892           0.294990   \n",
       "1          0.056121     -0.022631           -0.358892           0.294990   \n",
       "2          0.056121     -0.022631           -0.358892           0.294990   \n",
       "3          0.056121     -0.022631           -0.358892           0.294990   \n",
       "4          0.056121     -0.022631           -0.358892           0.294990   \n",
       "...             ...           ...                 ...                ...   \n",
       "3535       0.056121     -0.022631           -0.358892           0.294990   \n",
       "3536       0.056121     -0.022631           -0.358892           0.294990   \n",
       "3537      -2.276877      1.024424            3.043979          -1.496509   \n",
       "3538       7.285802      6.085864            2.880228          -3.979897   \n",
       "3539      -5.086971      3.682328            3.049403          -4.405417   \n",
       "\n",
       "      ENCODED_CATEGORY  \n",
       "0            -0.116771  \n",
       "1            -0.116771  \n",
       "2            -0.116771  \n",
       "3            -0.116771  \n",
       "4            -0.116771  \n",
       "...                ...  \n",
       "3535         -0.116771  \n",
       "3536         -0.116771  \n",
       "3537         -0.941538  \n",
       "3538         -0.489622  \n",
       "3539         -6.387517  \n",
       "\n",
       "[3540 rows x 68 columns]"
      ]
     },
     "execution_count": 72,
     "metadata": {},
     "output_type": "execute_result"
    }
   ],
   "source": [
    "x_data"
   ]
  },
  {
   "cell_type": "markdown",
   "metadata": {},
   "source": [
    "# Trying some classifiers"
   ]
  },
  {
   "cell_type": "code",
   "execution_count": 113,
   "metadata": {},
   "outputs": [],
   "source": [
    "classifiers = [\n",
    "    ('Decision Tree', DecisionTreeRegressor()),\n",
    "    ('SVM', SVR()),\n",
    "    ('Linear Regression', LinearRegression()),\n",
    "    ('Stochastic Gradient Descent', SGDRegressor())\n",
    "    ]"
   ]
  },
  {
   "cell_type": "code",
   "execution_count": 142,
   "metadata": {},
   "outputs": [],
   "source": [
    "x_train, x_test, y_train, y_test = train_test_split(x_data, y_data, test_size=0.2)"
   ]
  },
  {
   "cell_type": "code",
   "execution_count": 143,
   "metadata": {},
   "outputs": [
    {
     "name": "stdout",
     "output_type": "stream",
     "text": [
      "Classifer: Decision Tree\n",
      "Mean Square Error: 0.011161585108731902\n",
      "Classifer: SVM\n",
      "Mean Square Error: 0.0064316422220598085\n",
      "Classifer: Linear Regression\n",
      "Mean Square Error: 0.006271236417192644\n",
      "Classifer: Stochastic Gradient Descent\n",
      "Mean Square Error: 109932.92967816329\n"
     ]
    }
   ],
   "source": [
    "for classifier in classifiers:\n",
    "    clf_name, clf = classifier\n",
    "    pipe = make_pipeline(clf)\n",
    "    pipe.fit(x_train, y_train)\n",
    "    prediction = pipe.predict(x_test)\n",
    "    mse = np.square(np.subtract(prediction,y_test)).mean()\n",
    "    print('Classifer:', clf_name)\n",
    "    print('Mean Square Error:', mse)"
   ]
  },
  {
   "cell_type": "markdown",
   "metadata": {},
   "source": [
    "Seems like the data is best regressed by the Decision Tree, SVM, and Linear Regression. I will start by analyzing Linear Regression and seeing if there are any regression parameters we can hypertune."
   ]
  },
  {
   "cell_type": "markdown",
   "metadata": {},
   "source": [
    "# Linear Regression Hypertuning"
   ]
  },
  {
   "cell_type": "markdown",
   "metadata": {},
   "source": [
    "## Using LASSO and Ridge Regresssion"
   ]
  },
  {
   "cell_type": "code",
   "execution_count": 150,
   "metadata": {},
   "outputs": [
    {
     "name": "stdout",
     "output_type": "stream",
     "text": [
      "Classifer: LASSO\n",
      "Hyperparamater: Alpha =  0.001\n",
      "Mean Square Error: 0.006538757367571319\n",
      "Classifer: LASSO\n",
      "Hyperparamater: Alpha =  0.001\n",
      "Mean Square Error: 0.006538757367571319\n",
      "Classifer: LASSO\n",
      "Hyperparamater: Alpha =  0.05\n",
      "Mean Square Error: 0.006551737953797192\n",
      "Classifer: LASSO\n",
      "Hyperparamater: Alpha =  0.1\n",
      "Mean Square Error: 0.006551737953797192\n",
      "Classifer: LASSO\n",
      "Hyperparamater: Alpha =  1.0\n",
      "Mean Square Error: 0.006551737953797192\n",
      "Classifer: LASSO\n",
      "Hyperparamater: Alpha =  0.25\n",
      "Mean Square Error: 0.006551737953797192\n",
      "Classifer: LASSO\n",
      "Hyperparamater: Alpha =  0.5\n",
      "Mean Square Error: 0.006551737953797192\n",
      "Classifer: LASSO\n",
      "Hyperparamater: Alpha =  1\n",
      "Mean Square Error: 0.006551737953797192\n",
      "Classifer: LASSO\n",
      "Hyperparamater: Alpha =  2\n",
      "Mean Square Error: 0.006551737953797192\n"
     ]
    },
    {
     "data": {
      "text/plain": [
       "[<matplotlib.lines.Line2D at 0x139de3ca0>]"
      ]
     },
     "execution_count": 150,
     "metadata": {},
     "output_type": "execute_result"
    },
    {
     "data": {
      "image/png": "[encoded data removed]",
      "text/plain": [
       "<Figure size 432x288 with 1 Axes>"
      ]
     },
     "metadata": {
      "needs_background": "light"
     },
     "output_type": "display_data"
    }
   ],
   "source": [
    "from sklearn.linear_model import Lasso, Ridge\n",
    "c_values = [10e-4, 10e-4, 5e-2, 10e-2, 10e-1, .25, .5, 1, 2]\n",
    "lasso_mses= []\n",
    "for c in c_values:\n",
    "    lasso_pipe = make_pipeline(Lasso(alpha=c))\n",
    "    lasso_pipe.fit(x_train, y_train)\n",
    "    lasso_prediction = lasso_pipe.predict(x_test)\n",
    "    lasso_mse = np.square(np.subtract(lasso_prediction,y_test)).mean()\n",
    "    lasso_mses.append(lasso_mse)\n",
    "    print('Classifer: LASSO')\n",
    "    print('Hyperparamater: Alpha = ', c)\n",
    "    print('Mean Square Error:', lasso_mse)\n",
    "plt.plot(c_values, lasso_mses)"
   ]
  },
  {
   "cell_type": "code",
   "execution_count": 151,
   "metadata": {},
   "outputs": [
    {
     "name": "stdout",
     "output_type": "stream",
     "text": [
      "Classifer: Ridge\n",
      "Hyperparamater: Alpha =  0.001\n",
      "Mean Square Error: 0.006267061188672588\n",
      "Classifer: Ridge\n",
      "Hyperparamater: Alpha =  0.001\n",
      "Mean Square Error: 0.006267061188672588\n",
      "Classifer: Ridge\n",
      "Hyperparamater: Alpha =  0.05\n",
      "Mean Square Error: 0.006268821550031667\n",
      "Classifer: Ridge\n",
      "Hyperparamater: Alpha =  0.1\n",
      "Mean Square Error: 0.006270580345004902\n",
      "Classifer: Ridge\n",
      "Hyperparamater: Alpha =  1.0\n",
      "Mean Square Error: 0.0062970172580889576\n",
      "Classifer: Ridge\n",
      "Hyperparamater: Alpha =  0.25\n",
      "Mean Square Error: 0.006275642327256896\n",
      "Classifer: Ridge\n",
      "Hyperparamater: Alpha =  0.5\n",
      "Mean Square Error: 0.006283433333254693\n",
      "Classifer: Ridge\n",
      "Hyperparamater: Alpha =  1\n",
      "Mean Square Error: 0.0062970172580889576\n",
      "Classifer: Ridge\n",
      "Hyperparamater: Alpha =  2\n",
      "Mean Square Error: 0.006318469173681625\n"
     ]
    },
    {
     "data": {
      "text/plain": [
       "[<matplotlib.lines.Line2D at 0x13a0c9670>]"
      ]
     },
     "execution_count": 151,
     "metadata": {},
     "output_type": "execute_result"
    },
    {
     "data": {
      "image/png": "[encoded data removed]",
      "text/plain": [
       "<Figure size 432x288 with 1 Axes>"
      ]
     },
     "metadata": {
      "needs_background": "light"
     },
     "output_type": "display_data"
    }
   ],
   "source": [
    "ridge_mses= []\n",
    "for c in c_values:\n",
    "    ridge_pipe = make_pipeline(Ridge(alpha=c))\n",
    "    ridge_pipe.fit(x_train, y_train)\n",
    "    ridge_prediction = ridge_pipe.predict(x_test)\n",
    "    ridge_mse = np.square(np.subtract(ridge_prediction,y_test)).mean()\n",
    "    ridge_mses.append(ridge_mse)\n",
    "    print('Classifer: Ridge')\n",
    "    print('Hyperparamater: Alpha = ', c)\n",
    "    print('Mean Square Error:', ridge_mse)\n",
    "plt.plot(c_values, ridge_mses)"
   ]
  },
  {
   "cell_type": "markdown",
   "metadata": {},
   "source": [
    "So far, it looks like Ridge(c=.001) is the best model."
   ]
  },
  {
   "cell_type": "code",
   "execution_count": 172,
   "metadata": {},
   "outputs": [
    {
     "name": "stdout",
     "output_type": "stream",
     "text": [
      "Crossfold  0 : 0.03194182369637138\n",
      "Crossfold  1 : 0.013745324168469863\n",
      "Crossfold  2 : 0.01985025821307167\n",
      "Crossfold  3 : 0.00955448186756277\n",
      "Crossfold  4 : 0.0038319629675104216\n",
      "Average Error: 0.015784770182597222\n",
      "Standard Deviation of Error: 0.009627294573522913\n"
     ]
    }
   ],
   "source": [
    "scores = cross_val_score(Ridge(alpha=.001), x_data, y_data, cv=5, scoring='neg_mean_squared_error')\n",
    "for i, score in enumerate(scores):\n",
    "    print('Crossfold ', i, ':', -1*score)\n",
    "print('Average Error:', -1*np.mean(scores))\n",
    "print('Standard Deviation of Error:', np.std(scores))"
   ]
  },
  {
   "cell_type": "markdown",
   "metadata": {},
   "source": [
    "# Support Vector Regression"
   ]
  },
  {
   "cell_type": "code",
   "execution_count": 170,
   "metadata": {},
   "outputs": [
    {
     "name": "stdout",
     "output_type": "stream",
     "text": [
      "Classifer: SVR\n",
      "Hyperparamater: Kernel =  linear\n",
      "Mean Square Error: 0.006232345425297206\n",
      "Classifer: SVR\n",
      "Hyperparamater: Kernel =  poly\n",
      "Mean Square Error: 0.007276498157367512\n",
      "Classifer: SVR\n",
      "Hyperparamater: Kernel =  rbf\n",
      "Mean Square Error: 0.0064316422220598085\n",
      "Classifer: SVR\n",
      "Hyperparamater: Kernel =  sigmoid\n",
      "Mean Square Error: 171.53897009724804\n"
     ]
    }
   ],
   "source": [
    "kernels = ['linear', 'poly', 'rbf', 'sigmoid']\n",
    "kernel_mses= []\n",
    "for ker in kernels:\n",
    "    svr = make_pipeline(SVR(kernel=ker))\n",
    "    svr.fit(x_train, y_train)\n",
    "    svr_prediction = svr.predict(x_test)\n",
    "    kernel_mse = np.square(np.subtract(svr_prediction,y_test)).mean()\n",
    "    kernel_mses.append(kernel_mse)\n",
    "    print('Classifer: SVR')\n",
    "    print('Hyperparamater: Kernel = ', ker)\n",
    "    print('Mean Square Error:', kernel_mse)"
   ]
  },
  {
   "cell_type": "code",
   "execution_count": 173,
   "metadata": {},
   "outputs": [
    {
     "name": "stdout",
     "output_type": "stream",
     "text": [
      "Crossfold  0 : 0.03345552868911611\n",
      "Crossfold  1 : 0.014123135567536088\n",
      "Crossfold  2 : 0.013076326602474432\n",
      "Crossfold  3 : 0.0071469607957855875\n",
      "Crossfold  4 : 0.004035576786598319\n",
      "Average Error: 0.014367505688302107\n",
      "Standard Deviation of Error: 0.010246604370638254\n"
     ]
    }
   ],
   "source": [
    "scores = cross_val_score(SVR(kernel='linear'), x_data, y_data, cv=5, scoring='neg_mean_squared_error')\n",
    "for i, score in enumerate(scores):\n",
    "    print('Crossfold ', i, ':', -1*score)\n",
    "print('Average Error:', -1*np.mean(scores))\n",
    "print('Standard Deviation of Error:', np.std(scores))"
   ]
  },
  {
   "cell_type": "markdown",
   "metadata": {},
   "source": [
    "### Results: In a pure train/test split, we see that Linear Kernel SVR is the best model, but in the case of cross validation, we see that Ridge Regression with C=.001 is the best model. Because I believe that the CV split is a more robust evaluation, I will be using the Ridge Regression with C=.001 as my model to predict monthly returns."
   ]
  },
  {
   "cell_type": "markdown",
   "metadata": {},
   "source": [
    "# Evaluating F1"
   ]
  },
  {
   "cell_type": "code",
   "execution_count": 174,
   "metadata": {},
   "outputs": [],
   "source": [
    "x_train, x_test, yf_train, yf_test = train_test_split(x_data, yf1_data, test_size=0.2)"
   ]
  },
  {
   "cell_type": "code",
   "execution_count": 177,
   "metadata": {},
   "outputs": [
    {
     "name": "stdout",
     "output_type": "stream",
     "text": [
      "Classifer: Decision Tree\n",
      "Mean Square Error: 0.012792693223972348\n",
      "Classifer: SVM\n",
      "Mean Square Error: 0.007121857324978603\n",
      "Classifer: Linear Regression\n",
      "Mean Square Error: 0.008035064643954887\n",
      "Classifer: Stochastic Gradient Descent\n",
      "Mean Square Error: 0.02604733515578077\n"
     ]
    }
   ],
   "source": [
    "for classifier in classifiers:\n",
    "    clf_name, clf = classifier\n",
    "    pipe = make_pipeline(clf)\n",
    "    pipe.fit(x_train, yf_train)\n",
    "    prediction = pipe.predict(x_test)\n",
    "    mse = np.square(np.subtract(prediction,yf_test)).mean()\n",
    "    print('Classifer:', clf_name)\n",
    "    print('Mean Square Error:', mse)"
   ]
  },
  {
   "cell_type": "markdown",
   "metadata": {},
   "source": [
    "We see similar results for the F1 Monthly Returns (except for SGD) and I theorize that the model willl be very similar to what we saw for the non F1 returns."
   ]
  },
  {
   "cell_type": "code",
   "execution_count": 180,
   "metadata": {},
   "outputs": [
    {
     "name": "stdout",
     "output_type": "stream",
     "text": [
      "Classifer: LASSO\n",
      "Hyperparamater: Alpha =  0.001\n",
      "Mean Square Error: 0.007429346302269495\n",
      "Classifer: LASSO\n",
      "Hyperparamater: Alpha =  0.001\n",
      "Mean Square Error: 0.007429346302269495\n",
      "Classifer: LASSO\n",
      "Hyperparamater: Alpha =  0.05\n",
      "Mean Square Error: 0.006722647669434859\n",
      "Classifer: LASSO\n",
      "Hyperparamater: Alpha =  0.1\n",
      "Mean Square Error: 0.006722647669434859\n",
      "Classifer: LASSO\n",
      "Hyperparamater: Alpha =  1.0\n",
      "Mean Square Error: 0.006722647669434859\n",
      "Classifer: LASSO\n",
      "Hyperparamater: Alpha =  0.25\n",
      "Mean Square Error: 0.006722647669434859\n",
      "Classifer: LASSO\n",
      "Hyperparamater: Alpha =  0.5\n",
      "Mean Square Error: 0.006722647669434859\n",
      "Classifer: LASSO\n",
      "Hyperparamater: Alpha =  1\n",
      "Mean Square Error: 0.006722647669434859\n",
      "Classifer: LASSO\n",
      "Hyperparamater: Alpha =  2\n",
      "Mean Square Error: 0.006722647669434859\n"
     ]
    },
    {
     "data": {
      "text/plain": [
       "[<matplotlib.lines.Line2D at 0x13a87a220>]"
      ]
     },
     "execution_count": 180,
     "metadata": {},
     "output_type": "execute_result"
    },
    {
     "data": {
      "image/png": "[encoded data removed]",
      "text/plain": [
       "<Figure size 432x288 with 1 Axes>"
      ]
     },
     "metadata": {
      "needs_background": "light"
     },
     "output_type": "display_data"
    }
   ],
   "source": [
    "f1_lasso_mses= []\n",
    "for c in c_values:\n",
    "    f1_lasso_pipe = make_pipeline(Lasso(alpha=c))\n",
    "    f1_lasso_pipe.fit(x_train, yf_train)\n",
    "    f1_lasso_prediction = f1_lasso_pipe.predict(x_test)\n",
    "    f1_lasso_mse = np.square(np.subtract(f1_lasso_prediction,yf_test)).mean()\n",
    "    f1_lasso_mses.append(f1_lasso_mse)\n",
    "    print('Classifer: LASSO')\n",
    "    print('Hyperparamater: Alpha = ', c)\n",
    "    print('Mean Square Error:', f1_lasso_mse)\n",
    "plt.plot(c_values, f1_lasso_mses)"
   ]
  },
  {
   "cell_type": "code",
   "execution_count": 181,
   "metadata": {},
   "outputs": [
    {
     "name": "stdout",
     "output_type": "stream",
     "text": [
      "Classifer: Ridge\n",
      "Hyperparamater: Alpha =  0.001\n",
      "Mean Square Error: 0.007816646405102181\n",
      "Classifer: Ridge\n",
      "Hyperparamater: Alpha =  0.001\n",
      "Mean Square Error: 0.007816646405102181\n",
      "Classifer: Ridge\n",
      "Hyperparamater: Alpha =  0.05\n",
      "Mean Square Error: 0.007816558151969298\n",
      "Classifer: Ridge\n",
      "Hyperparamater: Alpha =  0.1\n",
      "Mean Square Error: 0.007816467539409797\n",
      "Classifer: Ridge\n",
      "Hyperparamater: Alpha =  1.0\n",
      "Mean Square Error: 0.007814762721122893\n",
      "Classifer: Ridge\n",
      "Hyperparamater: Alpha =  0.25\n",
      "Mean Square Error: 0.007816192552805348\n",
      "Classifer: Ridge\n",
      "Hyperparamater: Alpha =  0.5\n",
      "Mean Square Error: 0.007815724995884532\n",
      "Classifer: Ridge\n",
      "Hyperparamater: Alpha =  1\n",
      "Mean Square Error: 0.007814762721122893\n",
      "Classifer: Ridge\n",
      "Hyperparamater: Alpha =  2\n",
      "Mean Square Error: 0.007812768632500869\n"
     ]
    },
    {
     "data": {
      "text/plain": [
       "[<matplotlib.lines.Line2D at 0x13a914cd0>]"
      ]
     },
     "execution_count": 181,
     "metadata": {},
     "output_type": "execute_result"
    },
    {
     "data": {
      "image/png": "[encoded data removed]",
      "text/plain": [
       "<Figure size 432x288 with 1 Axes>"
      ]
     },
     "metadata": {
      "needs_background": "light"
     },
     "output_type": "display_data"
    }
   ],
   "source": [
    "f1_ridge_mses= []\n",
    "for c in c_values:\n",
    "    f1_ridge_pipe = make_pipeline(Ridge(alpha=c))\n",
    "    f1_ridge_pipe.fit(x_train, yf_train)\n",
    "    f1_ridge_prediction = f1_ridge_pipe.predict(x_test)\n",
    "    f1_ridge_mse = np.square(np.subtract(f1_ridge_prediction,yf_test)).mean()\n",
    "    f1_ridge_mses.append(f1_ridge_mse)\n",
    "    print('Classifer: Ridge')\n",
    "    print('Hyperparamater: Alpha = ', c)\n",
    "    print('Mean Square Error:', f1_ridge_mse)\n",
    "plt.plot(c_values, f1_ridge_mses)"
   ]
  },
  {
   "cell_type": "code",
   "execution_count": 183,
   "metadata": {},
   "outputs": [
    {
     "name": "stdout",
     "output_type": "stream",
     "text": [
      "Classifer: SVR\n",
      "Hyperparamater: Kernel =  linear\n",
      "Mean Square Error: 0.0070298167650926285\n",
      "Classifer: SVR\n",
      "Hyperparamater: Kernel =  poly\n",
      "Mean Square Error: 0.01013811341407209\n",
      "Classifer: SVR\n",
      "Hyperparamater: Kernel =  rbf\n",
      "Mean Square Error: 0.007121857324978603\n",
      "Classifer: SVR\n",
      "Hyperparamater: Kernel =  sigmoid\n",
      "Mean Square Error: 113.98382544373035\n"
     ]
    }
   ],
   "source": [
    "f1_kernel_mses= []\n",
    "for ker in kernels:\n",
    "    f1_svr = make_pipeline(SVR(kernel=ker))\n",
    "    f1_svr.fit(x_train, yf_train)\n",
    "    f1_svr_prediction = f1_svr.predict(x_test)\n",
    "    f1_kernel_mse = np.square(np.subtract(f1_svr_prediction,yf_test)).mean()\n",
    "    kernel_mses.append(f1_kernel_mse)\n",
    "    print('Classifer: SVR')\n",
    "    print('Hyperparamater: Kernel = ', ker)\n",
    "    print('Mean Square Error:', f1_kernel_mse)"
   ]
  },
  {
   "cell_type": "code",
   "execution_count": 185,
   "metadata": {},
   "outputs": [
    {
     "name": "stdout",
     "output_type": "stream",
     "text": [
      "Crossfold  0 : 0.008027377522791356\n",
      "Crossfold  1 : 0.009375627713437534\n",
      "Crossfold  2 : 0.011451330208231436\n",
      "Crossfold  3 : 0.0079217205621545\n",
      "Crossfold  4 : 0.004285376287350277\n",
      "Average Error: 0.00821228645879302\n",
      "Standard Deviation of Error: 0.0023402568506476823\n"
     ]
    }
   ],
   "source": [
    "scores = cross_val_score(Lasso(alpha=0.05), x_data, yf1_data, cv=5, scoring='neg_mean_squared_error')\n",
    "for i, score in enumerate(scores):\n",
    "    print('Crossfold ', i, ':', -1*score)\n",
    "print('Average Error:', -1*np.mean(scores))\n",
    "print('Standard Deviation of Error:', np.std(scores))"
   ]
  },
  {
   "cell_type": "code",
   "execution_count": 186,
   "metadata": {},
   "outputs": [
    {
     "name": "stdout",
     "output_type": "stream",
     "text": [
      "Crossfold  0 : 0.009058618659316963\n",
      "Crossfold  1 : 0.010017414830785911\n",
      "Crossfold  2 : 0.011460147374939672\n",
      "Crossfold  3 : 0.00890066510158563\n",
      "Crossfold  4 : 0.004290907267021537\n",
      "Average Error: 0.008745550646729943\n",
      "Standard Deviation of Error: 0.00240634966762861\n"
     ]
    }
   ],
   "source": [
    "scores = cross_val_score(SVR(kernel='linear'), x_data, yf1_data, cv=5, scoring='neg_mean_squared_error')\n",
    "for i, score in enumerate(scores):\n",
    "    print('Crossfold ', i, ':', -1*score)\n",
    "print('Average Error:', -1*np.mean(scores))\n",
    "print('Standard Deviation of Error:', np.std(scores))"
   ]
  },
  {
   "cell_type": "markdown",
   "metadata": {},
   "source": [
    "### Results: It looks like Lasso(alpha=.05) is the best regressive model for the f1 returns. It performed best of the different linear regression models I tested and did better than the best SVR model in terms of cross validation score mean."
   ]
  },
  {
   "cell_type": "markdown",
   "metadata": {},
   "source": [
    "# Saving the Model"
   ]
  },
  {
   "cell_type": "markdown",
   "metadata": {},
   "source": [
    "After all of the data cleaning, standardizing, and modeling, it is time to pickle these models so that way we can use them in future testing. I have fitted the models using all of the data and saved them under the models folder."
   ]
  },
  {
   "cell_type": "code",
   "execution_count": 189,
   "metadata": {},
   "outputs": [],
   "source": [
    "import pickle\n",
    "final_monthly_return_model = SVR(kernel='linear')\n",
    "final_monthly_return_model.fit(x_data, y_data)\n",
    "pickle.dump(final_monthly_return_model, open('model/final_monthly_return_model.sav', 'wb'))\n",
    "\n",
    "final_monthly_return_f1_model = Lasso(alpha=0.05)\n",
    "final_monthly_return_f1_model.fit(x_data, yf1_data)\n",
    "pickle.dump(final_monthly_return_f1_model, open('model/final_monthly_return_f1_model.sav', 'wb'))"
   ]
  },
  {
   "cell_type": "code",
   "execution_count": null,
   "metadata": {},
   "outputs": [],
   "source": []
  }
 ],
 "metadata": {
  "kernelspec": {
   "display_name": "Python 3",
   "language": "python",
   "name": "python3"
  },
  "language_info": {
   "codemirror_mode": {
    "name": "ipython",
    "version": 3
   },
   "file_extension": ".py",
   "mimetype": "text/x-python",
   "name": "python",
   "nbconvert_exporter": "python",
   "pygments_lexer": "ipython3",
   "version": "3.8.6"
  }
 },
 "nbformat": 4,
 "nbformat_minor": 4
}
